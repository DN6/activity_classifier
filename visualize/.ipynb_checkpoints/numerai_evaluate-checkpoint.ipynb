{
 "cells": [
  {
   "cell_type": "code",
   "execution_count": 3,
   "metadata": {
    "collapsed": false
   },
   "outputs": [
    {
     "ename": "ImportError",
     "evalue": "No module named 'utils.voting_classifier'",
     "output_type": "error",
     "traceback": [
      "\u001b[0;31m---------------------------------------------------------------------------\u001b[0m",
      "\u001b[0;31mImportError\u001b[0m                               Traceback (most recent call last)",
      "\u001b[0;32m<ipython-input-3-cecd6913ecc7>\u001b[0m in \u001b[0;36m<module>\u001b[0;34m()\u001b[0m\n\u001b[1;32m     13\u001b[0m \u001b[0;32mfrom\u001b[0m \u001b[0msklearn\u001b[0m\u001b[0;34m.\u001b[0m\u001b[0mexternals\u001b[0m \u001b[0;32mimport\u001b[0m \u001b[0mjoblib\u001b[0m\u001b[0;34m\u001b[0m\u001b[0m\n\u001b[1;32m     14\u001b[0m \u001b[0;34m\u001b[0m\u001b[0m\n\u001b[0;32m---> 15\u001b[0;31m \u001b[0;32mfrom\u001b[0m \u001b[0mutils\u001b[0m\u001b[0;34m.\u001b[0m\u001b[0mvoting_classifier\u001b[0m \u001b[0;32mimport\u001b[0m \u001b[0mVotingClassifier\u001b[0m\u001b[0;34m\u001b[0m\u001b[0m\n\u001b[0m\u001b[1;32m     16\u001b[0m \u001b[0;32mfrom\u001b[0m \u001b[0mutils\u001b[0m \u001b[0;32mimport\u001b[0m \u001b[0mutils\u001b[0m\u001b[0;34m\u001b[0m\u001b[0m\n\u001b[1;32m     17\u001b[0m \u001b[0;34m\u001b[0m\u001b[0m\n",
      "\u001b[0;31mImportError\u001b[0m: No module named 'utils.voting_classifier'"
     ]
    }
   ],
   "source": [
    "import os\n",
    "import sys\n",
    "module_path = os.path.abspath(os.path.join('..'))\n",
    "if module_path not in sys.path:\n",
    "    sys.path.append(module_path)\n",
    "\n",
    "import json\n",
    "\n",
    "import math\n",
    "import pandas as pd\n",
    "import numpy as np\n",
    "\n",
    "from sklearn.externals import joblib\n",
    "\n",
    "from utils.voting_classifier import VotingClassifier\n",
    "from utils import utils\n",
    "\n",
    "\n",
    "CONFIG_PATH = '/Users/dhruv/Github/pipeline/config/numerai69_test.json'\n",
    "\n",
    "with open(CONFIG_PATH, 'r') as f:\n",
    "    conf = json.loads(f.read())\n",
    "\n",
    "def load_data(path):\n",
    "    return pd.read_csv(path, sep=',', header=0, index_col=False)\n",
    "\n",
    "def load_model(path, estimators):\n",
    "    for (dirpath, dirnames, filenames) in os.walk(path):\n",
    "        yield joblib.load(filenames)\n",
    "    \n",
    "def get_label(label_path, _class):\n",
    "    df = pd.read_csv(label_path, sep=',', header=0, index_col=False)\n",
    "    return df[_class]\n",
    "\n",
    "def get_features(df, features):\n",
    "    return df[features]\n",
    "\n",
    "\n",
    "data = load_data(conf.get(\"data\"))\n",
    "features = get_features(data, conf.get(\"features\"))\n",
    "\n",
    "X = utils.preprocess(0, conf.get('preprocess'), features)\n",
    "y = get_label(conf.get(\"labels\"), conf.get(\"class\"))\n",
    " \n",
    "estimators = [model for model in load_model(path)]\n",
    "vc = VotingClassifier(estimators, weights=[1,1,1,1])\n",
    "    \n",
    "'''  \n",
    "_ = [i for i, value in y.iteritems() if math.isnan(value) is False ]\n",
    "\n",
    "for model in conf.get(\"models\"):\n",
    "    estimator = load_model(\"%s/%s\"%(conf.get(\"model_path\"), model))\n",
    "    predictions = estimator.predict(X)\n",
    "    \n",
    "    print(log_loss(y[_], estimator.predict(X[_])))\n",
    "''' \n"
   ]
  },
  {
   "cell_type": "code",
   "execution_count": null,
   "metadata": {
    "collapsed": true
   },
   "outputs": [],
   "source": []
  }
 ],
 "metadata": {
  "anaconda-cloud": {},
  "kernelspec": {
   "display_name": "Python [conda root]",
   "language": "python",
   "name": "conda-root-py"
  },
  "language_info": {
   "codemirror_mode": {
    "name": "ipython",
    "version": 3
   },
   "file_extension": ".py",
   "mimetype": "text/x-python",
   "name": "python",
   "nbconvert_exporter": "python",
   "pygments_lexer": "ipython3",
   "version": "3.5.2"
  }
 },
 "nbformat": 4,
 "nbformat_minor": 2
}
