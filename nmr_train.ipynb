{
 "cells": [
  {
   "cell_type": "code",
   "execution_count": 1,
   "metadata": {},
   "outputs": [],
   "source": [
    "import os\n",
    "import json\n",
    "\n",
    "from utils import utils\n",
    "\n",
    "NMR = \"nmr-82\"\n",
    "VERSION = \"1\"\n",
    "CONFIG_PATH = \"./config/numerai/%s/%s-%s.json\"%(NMR, NMR, VERSION)\n",
    "\n",
    "with open(CONFIG_PATH) as f:\n",
    "    conf = json.loads(f.read())"
   ]
  },
  {
   "cell_type": "code",
   "execution_count": null,
   "metadata": {},
   "outputs": [],
   "source": []
  },
  {
   "cell_type": "code",
   "execution_count": 6,
   "metadata": {},
   "outputs": [
    {
     "name": "stderr",
     "output_type": "stream",
     "text": [
      "2017-11-17T18:39:21 INFO numerapi: downloading current dataset...\n",
      "2017-11-17T18:39:49 INFO numerapi: unzipping file...\n"
     ]
    },
    {
     "name": "stdout",
     "output_type": "stream",
     "text": [
      "Download succeeded: True\n"
     ]
    }
   ],
   "source": [
    "''' Download latest NMR Dataset\n",
    "\n",
    "'''\n",
    "from numerapi import NumerAPI\n",
    "\n",
    "napi = NumerAPI(verbosity=\"info\")\n",
    "        \n",
    "# set up paths for download of dataset and upload of predictions\n",
    "data_path = \"./%s/%s\" % (conf.get(\"data\"), conf.get(\"name\"))\n",
    "if not os.path.isdir(data_path):\n",
    "    os.mkdir(data_path)\n",
    "\n",
    "# download current dataset\n",
    "dl_succeeded = napi.download_current_dataset(dest_path=data_path,\n",
    "                                                 unzip=True)\n",
    "print(\"Download succeeded: \" + str(dl_succeeded))"
   ]
  },
  {
   "cell_type": "code",
   "execution_count": 2,
   "metadata": {},
   "outputs": [
    {
     "name": "stdout",
     "output_type": "stream",
     "text": [
      "Starting run id nmr-82-3-mlp\n",
      "Starting Grid Search\n"
     ]
    }
   ],
   "source": [
    "# Train models\n",
    "import nmr_train\n",
    "\n",
    "nmr_train.train(conf)"
   ]
  },
  {
   "cell_type": "code",
   "execution_count": null,
   "metadata": {},
   "outputs": [],
   "source": []
  }
 ],
 "metadata": {
  "anaconda-cloud": {},
  "kernelspec": {
   "display_name": "Python [conda root]",
   "language": "python",
   "name": "conda-root-py"
  },
  "language_info": {
   "codemirror_mode": {
    "name": "ipython",
    "version": 3
   },
   "file_extension": ".py",
   "mimetype": "text/x-python",
   "name": "python",
   "nbconvert_exporter": "python",
   "pygments_lexer": "ipython3",
   "version": "3.5.2"
  }
 },
 "nbformat": 4,
 "nbformat_minor": 2
}
